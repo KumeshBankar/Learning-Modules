{
 "cells": [
  {
   "cell_type": "code",
   "execution_count": 124,
   "id": "63216710",
   "metadata": {},
   "outputs": [],
   "source": [
    "import numpy as np\n",
    "import pandas as pd\n",
    "import charset_normalizer\n",
    "from fuzzywuzzy import process\n",
    "import warnings\n",
    "warnings.filterwarnings('ignore')\n",
    "import matplotlib.pyplot as plt\n",
    "import seaborn as sns"
   ]
  },
  {
   "cell_type": "code",
   "execution_count": 92,
   "id": "e3a9c050",
   "metadata": {},
   "outputs": [],
   "source": [
    "eq = pd.read_csv('C:/Users/Nikhil/AppData/Local/Temp/Temp1_database.csv.zip/database.csv')"
   ]
  },
  {
   "cell_type": "code",
   "execution_count": 93,
   "id": "eb8d7dca",
   "metadata": {},
   "outputs": [
    {
     "data": {
      "text/html": [
       "<div>\n",
       "<style scoped>\n",
       "    .dataframe tbody tr th:only-of-type {\n",
       "        vertical-align: middle;\n",
       "    }\n",
       "\n",
       "    .dataframe tbody tr th {\n",
       "        vertical-align: top;\n",
       "    }\n",
       "\n",
       "    .dataframe thead th {\n",
       "        text-align: right;\n",
       "    }\n",
       "</style>\n",
       "<table border=\"1\" class=\"dataframe\">\n",
       "  <thead>\n",
       "    <tr style=\"text-align: right;\">\n",
       "      <th></th>\n",
       "      <th>Date</th>\n",
       "      <th>Time</th>\n",
       "      <th>Latitude</th>\n",
       "      <th>Longitude</th>\n",
       "      <th>Type</th>\n",
       "      <th>Depth</th>\n",
       "      <th>Depth Error</th>\n",
       "      <th>Depth Seismic Stations</th>\n",
       "      <th>Magnitude</th>\n",
       "      <th>Magnitude Type</th>\n",
       "      <th>...</th>\n",
       "      <th>Magnitude Seismic Stations</th>\n",
       "      <th>Azimuthal Gap</th>\n",
       "      <th>Horizontal Distance</th>\n",
       "      <th>Horizontal Error</th>\n",
       "      <th>Root Mean Square</th>\n",
       "      <th>ID</th>\n",
       "      <th>Source</th>\n",
       "      <th>Location Source</th>\n",
       "      <th>Magnitude Source</th>\n",
       "      <th>Status</th>\n",
       "    </tr>\n",
       "  </thead>\n",
       "  <tbody>\n",
       "    <tr>\n",
       "      <th>0</th>\n",
       "      <td>01/02/1965</td>\n",
       "      <td>13:44:18</td>\n",
       "      <td>19.2460</td>\n",
       "      <td>145.6160</td>\n",
       "      <td>Earthquake</td>\n",
       "      <td>131.60</td>\n",
       "      <td>NaN</td>\n",
       "      <td>NaN</td>\n",
       "      <td>6.0</td>\n",
       "      <td>MW</td>\n",
       "      <td>...</td>\n",
       "      <td>NaN</td>\n",
       "      <td>NaN</td>\n",
       "      <td>NaN</td>\n",
       "      <td>NaN</td>\n",
       "      <td>NaN</td>\n",
       "      <td>ISCGEM860706</td>\n",
       "      <td>ISCGEM</td>\n",
       "      <td>ISCGEM</td>\n",
       "      <td>ISCGEM</td>\n",
       "      <td>Automatic</td>\n",
       "    </tr>\n",
       "    <tr>\n",
       "      <th>1</th>\n",
       "      <td>01/04/1965</td>\n",
       "      <td>11:29:49</td>\n",
       "      <td>1.8630</td>\n",
       "      <td>127.3520</td>\n",
       "      <td>Earthquake</td>\n",
       "      <td>80.00</td>\n",
       "      <td>NaN</td>\n",
       "      <td>NaN</td>\n",
       "      <td>5.8</td>\n",
       "      <td>MW</td>\n",
       "      <td>...</td>\n",
       "      <td>NaN</td>\n",
       "      <td>NaN</td>\n",
       "      <td>NaN</td>\n",
       "      <td>NaN</td>\n",
       "      <td>NaN</td>\n",
       "      <td>ISCGEM860737</td>\n",
       "      <td>ISCGEM</td>\n",
       "      <td>ISCGEM</td>\n",
       "      <td>ISCGEM</td>\n",
       "      <td>Automatic</td>\n",
       "    </tr>\n",
       "    <tr>\n",
       "      <th>2</th>\n",
       "      <td>01/05/1965</td>\n",
       "      <td>18:05:58</td>\n",
       "      <td>-20.5790</td>\n",
       "      <td>-173.9720</td>\n",
       "      <td>Earthquake</td>\n",
       "      <td>20.00</td>\n",
       "      <td>NaN</td>\n",
       "      <td>NaN</td>\n",
       "      <td>6.2</td>\n",
       "      <td>MW</td>\n",
       "      <td>...</td>\n",
       "      <td>NaN</td>\n",
       "      <td>NaN</td>\n",
       "      <td>NaN</td>\n",
       "      <td>NaN</td>\n",
       "      <td>NaN</td>\n",
       "      <td>ISCGEM860762</td>\n",
       "      <td>ISCGEM</td>\n",
       "      <td>ISCGEM</td>\n",
       "      <td>ISCGEM</td>\n",
       "      <td>Automatic</td>\n",
       "    </tr>\n",
       "    <tr>\n",
       "      <th>3</th>\n",
       "      <td>01/08/1965</td>\n",
       "      <td>18:49:43</td>\n",
       "      <td>-59.0760</td>\n",
       "      <td>-23.5570</td>\n",
       "      <td>Earthquake</td>\n",
       "      <td>15.00</td>\n",
       "      <td>NaN</td>\n",
       "      <td>NaN</td>\n",
       "      <td>5.8</td>\n",
       "      <td>MW</td>\n",
       "      <td>...</td>\n",
       "      <td>NaN</td>\n",
       "      <td>NaN</td>\n",
       "      <td>NaN</td>\n",
       "      <td>NaN</td>\n",
       "      <td>NaN</td>\n",
       "      <td>ISCGEM860856</td>\n",
       "      <td>ISCGEM</td>\n",
       "      <td>ISCGEM</td>\n",
       "      <td>ISCGEM</td>\n",
       "      <td>Automatic</td>\n",
       "    </tr>\n",
       "    <tr>\n",
       "      <th>4</th>\n",
       "      <td>01/09/1965</td>\n",
       "      <td>13:32:50</td>\n",
       "      <td>11.9380</td>\n",
       "      <td>126.4270</td>\n",
       "      <td>Earthquake</td>\n",
       "      <td>15.00</td>\n",
       "      <td>NaN</td>\n",
       "      <td>NaN</td>\n",
       "      <td>5.8</td>\n",
       "      <td>MW</td>\n",
       "      <td>...</td>\n",
       "      <td>NaN</td>\n",
       "      <td>NaN</td>\n",
       "      <td>NaN</td>\n",
       "      <td>NaN</td>\n",
       "      <td>NaN</td>\n",
       "      <td>ISCGEM860890</td>\n",
       "      <td>ISCGEM</td>\n",
       "      <td>ISCGEM</td>\n",
       "      <td>ISCGEM</td>\n",
       "      <td>Automatic</td>\n",
       "    </tr>\n",
       "    <tr>\n",
       "      <th>...</th>\n",
       "      <td>...</td>\n",
       "      <td>...</td>\n",
       "      <td>...</td>\n",
       "      <td>...</td>\n",
       "      <td>...</td>\n",
       "      <td>...</td>\n",
       "      <td>...</td>\n",
       "      <td>...</td>\n",
       "      <td>...</td>\n",
       "      <td>...</td>\n",
       "      <td>...</td>\n",
       "      <td>...</td>\n",
       "      <td>...</td>\n",
       "      <td>...</td>\n",
       "      <td>...</td>\n",
       "      <td>...</td>\n",
       "      <td>...</td>\n",
       "      <td>...</td>\n",
       "      <td>...</td>\n",
       "      <td>...</td>\n",
       "      <td>...</td>\n",
       "    </tr>\n",
       "    <tr>\n",
       "      <th>23407</th>\n",
       "      <td>12/28/2016</td>\n",
       "      <td>08:22:12</td>\n",
       "      <td>38.3917</td>\n",
       "      <td>-118.8941</td>\n",
       "      <td>Earthquake</td>\n",
       "      <td>12.30</td>\n",
       "      <td>1.2</td>\n",
       "      <td>40.0</td>\n",
       "      <td>5.6</td>\n",
       "      <td>ML</td>\n",
       "      <td>...</td>\n",
       "      <td>18.0</td>\n",
       "      <td>42.47</td>\n",
       "      <td>0.120</td>\n",
       "      <td>NaN</td>\n",
       "      <td>0.1898</td>\n",
       "      <td>NN00570710</td>\n",
       "      <td>NN</td>\n",
       "      <td>NN</td>\n",
       "      <td>NN</td>\n",
       "      <td>Reviewed</td>\n",
       "    </tr>\n",
       "    <tr>\n",
       "      <th>23408</th>\n",
       "      <td>12/28/2016</td>\n",
       "      <td>09:13:47</td>\n",
       "      <td>38.3777</td>\n",
       "      <td>-118.8957</td>\n",
       "      <td>Earthquake</td>\n",
       "      <td>8.80</td>\n",
       "      <td>2.0</td>\n",
       "      <td>33.0</td>\n",
       "      <td>5.5</td>\n",
       "      <td>ML</td>\n",
       "      <td>...</td>\n",
       "      <td>18.0</td>\n",
       "      <td>48.58</td>\n",
       "      <td>0.129</td>\n",
       "      <td>NaN</td>\n",
       "      <td>0.2187</td>\n",
       "      <td>NN00570744</td>\n",
       "      <td>NN</td>\n",
       "      <td>NN</td>\n",
       "      <td>NN</td>\n",
       "      <td>Reviewed</td>\n",
       "    </tr>\n",
       "    <tr>\n",
       "      <th>23409</th>\n",
       "      <td>12/28/2016</td>\n",
       "      <td>12:38:51</td>\n",
       "      <td>36.9179</td>\n",
       "      <td>140.4262</td>\n",
       "      <td>Earthquake</td>\n",
       "      <td>10.00</td>\n",
       "      <td>1.8</td>\n",
       "      <td>NaN</td>\n",
       "      <td>5.9</td>\n",
       "      <td>MWW</td>\n",
       "      <td>...</td>\n",
       "      <td>NaN</td>\n",
       "      <td>91.00</td>\n",
       "      <td>0.992</td>\n",
       "      <td>4.8</td>\n",
       "      <td>1.5200</td>\n",
       "      <td>US10007NAF</td>\n",
       "      <td>US</td>\n",
       "      <td>US</td>\n",
       "      <td>US</td>\n",
       "      <td>Reviewed</td>\n",
       "    </tr>\n",
       "    <tr>\n",
       "      <th>23410</th>\n",
       "      <td>12/29/2016</td>\n",
       "      <td>22:30:19</td>\n",
       "      <td>-9.0283</td>\n",
       "      <td>118.6639</td>\n",
       "      <td>Earthquake</td>\n",
       "      <td>79.00</td>\n",
       "      <td>1.8</td>\n",
       "      <td>NaN</td>\n",
       "      <td>6.3</td>\n",
       "      <td>MWW</td>\n",
       "      <td>...</td>\n",
       "      <td>NaN</td>\n",
       "      <td>26.00</td>\n",
       "      <td>3.553</td>\n",
       "      <td>6.0</td>\n",
       "      <td>1.4300</td>\n",
       "      <td>US10007NL0</td>\n",
       "      <td>US</td>\n",
       "      <td>US</td>\n",
       "      <td>US</td>\n",
       "      <td>Reviewed</td>\n",
       "    </tr>\n",
       "    <tr>\n",
       "      <th>23411</th>\n",
       "      <td>12/30/2016</td>\n",
       "      <td>20:08:28</td>\n",
       "      <td>37.3973</td>\n",
       "      <td>141.4103</td>\n",
       "      <td>Earthquake</td>\n",
       "      <td>11.94</td>\n",
       "      <td>2.2</td>\n",
       "      <td>NaN</td>\n",
       "      <td>5.5</td>\n",
       "      <td>MB</td>\n",
       "      <td>...</td>\n",
       "      <td>428.0</td>\n",
       "      <td>97.00</td>\n",
       "      <td>0.681</td>\n",
       "      <td>4.5</td>\n",
       "      <td>0.9100</td>\n",
       "      <td>US10007NTD</td>\n",
       "      <td>US</td>\n",
       "      <td>US</td>\n",
       "      <td>US</td>\n",
       "      <td>Reviewed</td>\n",
       "    </tr>\n",
       "  </tbody>\n",
       "</table>\n",
       "<p>23412 rows × 21 columns</p>\n",
       "</div>"
      ],
      "text/plain": [
       "             Date      Time  Latitude  Longitude        Type   Depth  \\\n",
       "0      01/02/1965  13:44:18   19.2460   145.6160  Earthquake  131.60   \n",
       "1      01/04/1965  11:29:49    1.8630   127.3520  Earthquake   80.00   \n",
       "2      01/05/1965  18:05:58  -20.5790  -173.9720  Earthquake   20.00   \n",
       "3      01/08/1965  18:49:43  -59.0760   -23.5570  Earthquake   15.00   \n",
       "4      01/09/1965  13:32:50   11.9380   126.4270  Earthquake   15.00   \n",
       "...           ...       ...       ...        ...         ...     ...   \n",
       "23407  12/28/2016  08:22:12   38.3917  -118.8941  Earthquake   12.30   \n",
       "23408  12/28/2016  09:13:47   38.3777  -118.8957  Earthquake    8.80   \n",
       "23409  12/28/2016  12:38:51   36.9179   140.4262  Earthquake   10.00   \n",
       "23410  12/29/2016  22:30:19   -9.0283   118.6639  Earthquake   79.00   \n",
       "23411  12/30/2016  20:08:28   37.3973   141.4103  Earthquake   11.94   \n",
       "\n",
       "       Depth Error  Depth Seismic Stations  Magnitude Magnitude Type  ...  \\\n",
       "0              NaN                     NaN        6.0             MW  ...   \n",
       "1              NaN                     NaN        5.8             MW  ...   \n",
       "2              NaN                     NaN        6.2             MW  ...   \n",
       "3              NaN                     NaN        5.8             MW  ...   \n",
       "4              NaN                     NaN        5.8             MW  ...   \n",
       "...            ...                     ...        ...            ...  ...   \n",
       "23407          1.2                    40.0        5.6             ML  ...   \n",
       "23408          2.0                    33.0        5.5             ML  ...   \n",
       "23409          1.8                     NaN        5.9            MWW  ...   \n",
       "23410          1.8                     NaN        6.3            MWW  ...   \n",
       "23411          2.2                     NaN        5.5             MB  ...   \n",
       "\n",
       "       Magnitude Seismic Stations  Azimuthal Gap  Horizontal Distance  \\\n",
       "0                             NaN            NaN                  NaN   \n",
       "1                             NaN            NaN                  NaN   \n",
       "2                             NaN            NaN                  NaN   \n",
       "3                             NaN            NaN                  NaN   \n",
       "4                             NaN            NaN                  NaN   \n",
       "...                           ...            ...                  ...   \n",
       "23407                        18.0          42.47                0.120   \n",
       "23408                        18.0          48.58                0.129   \n",
       "23409                         NaN          91.00                0.992   \n",
       "23410                         NaN          26.00                3.553   \n",
       "23411                       428.0          97.00                0.681   \n",
       "\n",
       "       Horizontal Error  Root Mean Square            ID  Source  \\\n",
       "0                   NaN               NaN  ISCGEM860706  ISCGEM   \n",
       "1                   NaN               NaN  ISCGEM860737  ISCGEM   \n",
       "2                   NaN               NaN  ISCGEM860762  ISCGEM   \n",
       "3                   NaN               NaN  ISCGEM860856  ISCGEM   \n",
       "4                   NaN               NaN  ISCGEM860890  ISCGEM   \n",
       "...                 ...               ...           ...     ...   \n",
       "23407               NaN            0.1898    NN00570710      NN   \n",
       "23408               NaN            0.2187    NN00570744      NN   \n",
       "23409               4.8            1.5200    US10007NAF      US   \n",
       "23410               6.0            1.4300    US10007NL0      US   \n",
       "23411               4.5            0.9100    US10007NTD      US   \n",
       "\n",
       "      Location Source Magnitude Source     Status  \n",
       "0              ISCGEM           ISCGEM  Automatic  \n",
       "1              ISCGEM           ISCGEM  Automatic  \n",
       "2              ISCGEM           ISCGEM  Automatic  \n",
       "3              ISCGEM           ISCGEM  Automatic  \n",
       "4              ISCGEM           ISCGEM  Automatic  \n",
       "...               ...              ...        ...  \n",
       "23407              NN               NN   Reviewed  \n",
       "23408              NN               NN   Reviewed  \n",
       "23409              US               US   Reviewed  \n",
       "23410              US               US   Reviewed  \n",
       "23411              US               US   Reviewed  \n",
       "\n",
       "[23412 rows x 21 columns]"
      ]
     },
     "execution_count": 93,
     "metadata": {},
     "output_type": "execute_result"
    }
   ],
   "source": [
    "eq"
   ]
  },
  {
   "cell_type": "code",
   "execution_count": 121,
   "id": "0d67a9f0",
   "metadata": {},
   "outputs": [],
   "source": [
    "eq['Date'] = pd.to_datetime(eq['Date'],format='%m/%d/%y')"
   ]
  },
  {
   "cell_type": "code",
   "execution_count": 122,
   "id": "cac62b61",
   "metadata": {},
   "outputs": [
    {
     "data": {
      "text/plain": [
       "0       1965-01-02 00:00:00+00:00\n",
       "1       1965-01-04 00:00:00+00:00\n",
       "2       1965-01-05 00:00:00+00:00\n",
       "3       1965-01-08 00:00:00+00:00\n",
       "4       1965-01-09 00:00:00+00:00\n",
       "                   ...           \n",
       "23407   2016-12-28 00:00:00+00:00\n",
       "23408   2016-12-28 00:00:00+00:00\n",
       "23409   2016-12-28 00:00:00+00:00\n",
       "23410   2016-12-29 00:00:00+00:00\n",
       "23411   2016-12-30 00:00:00+00:00\n",
       "Name: Date, Length: 23412, dtype: datetime64[ns, UTC]"
      ]
     },
     "execution_count": 122,
     "metadata": {},
     "output_type": "execute_result"
    }
   ],
   "source": [
    "eq['Date']"
   ]
  },
  {
   "cell_type": "code",
   "execution_count": 126,
   "id": "22218322",
   "metadata": {},
   "outputs": [
    {
     "data": {
      "text/plain": [
       "0         2\n",
       "1         4\n",
       "2         5\n",
       "3         8\n",
       "4         9\n",
       "         ..\n",
       "23407    28\n",
       "23408    28\n",
       "23409    28\n",
       "23410    29\n",
       "23411    30\n",
       "Name: Date, Length: 23412, dtype: int64"
      ]
     },
     "execution_count": 126,
     "metadata": {},
     "output_type": "execute_result"
    }
   ],
   "source": [
    "day_of_month_landslides = eq['Date'].dt.day\n",
    "day_of_month_landslides"
   ]
  },
  {
   "cell_type": "code",
   "execution_count": 127,
   "id": "1aa95da7",
   "metadata": {},
   "outputs": [],
   "source": [
    "day_of_month_landslides1 = day_of_month_landslides.dropna()"
   ]
  },
  {
   "cell_type": "code",
   "execution_count": 128,
   "id": "8c91e1f0",
   "metadata": {},
   "outputs": [
    {
     "data": {
      "text/plain": [
       "<Axes: xlabel='Date'>"
      ]
     },
     "execution_count": 128,
     "metadata": {},
     "output_type": "execute_result"
    },
    {
     "data": {
      "image/png": "[encoded data removed]",
      "text/plain": [
       "<Figure size 640x480 with 1 Axes>"
      ]
     },
     "metadata": {},
     "output_type": "display_data"
    }
   ],
   "source": [
    "sns.distplot(day_of_month_landslides1,kde=False,bins=31)"
   ]
  },
  {
   "cell_type": "markdown",
   "id": "31b8a4f9",
   "metadata": {},
   "source": [
    "# Character encoding"
   ]
  },
  {
   "cell_type": "code",
   "execution_count": 129,
   "id": "f0c45f5a",
   "metadata": {},
   "outputs": [
    {
     "data": {
      "text/plain": [
       "str"
      ]
     },
     "execution_count": 129,
     "metadata": {},
     "output_type": "execute_result"
    }
   ],
   "source": [
    "before = \"This is the euro symbol: €\"\n",
    "type(before)"
   ]
  },
  {
   "cell_type": "code",
   "execution_count": 131,
   "id": "fe175fe5",
   "metadata": {},
   "outputs": [
    {
     "data": {
      "text/plain": [
       "bytes"
      ]
     },
     "execution_count": 131,
     "metadata": {},
     "output_type": "execute_result"
    }
   ],
   "source": [
    "after = before.encode('utf-8',errors='replace')\n",
    "type(after)"
   ]
  },
  {
   "cell_type": "code",
   "execution_count": 133,
   "id": "d95c20ba",
   "metadata": {},
   "outputs": [
    {
     "data": {
      "text/plain": [
       "bytes"
      ]
     },
     "execution_count": 133,
     "metadata": {},
     "output_type": "execute_result"
    }
   ],
   "source": [
    "after1 = before.encode('ascii',errors='replace')\n",
    "type(after1)"
   ]
  },
  {
   "cell_type": "markdown",
   "id": "3a4f606a",
   "metadata": {},
   "source": [
    "# Incositancy data"
   ]
  },
  {
   "cell_type": "code",
   "execution_count": 2,
   "id": "b8db0539",
   "metadata": {},
   "outputs": [
    {
     "name": "stdout",
     "output_type": "stream",
     "text": [
      "Collecting fuzzywuzzy\n",
      "  Downloading fuzzywuzzy-0.18.0-py2.py3-none-any.whl (18 kB)\n",
      "Installing collected packages: fuzzywuzzy\n",
      "Successfully installed fuzzywuzzy-0.18.0\n",
      "Note: you may need to restart the kernel to use updated packages.\n"
     ]
    }
   ],
   "source": [
    "pip install fuzzywuzzy"
   ]
  },
  {
   "cell_type": "code",
   "execution_count": 35,
   "id": "35725f6a",
   "metadata": {},
   "outputs": [],
   "source": [
    "import fuzzywuzzy"
   ]
  },
  {
   "cell_type": "code",
   "execution_count": 8,
   "id": "4c6f68ea",
   "metadata": {},
   "outputs": [],
   "source": [
    "ca = pd.read_csv('C:/Users/Nikhil/Downloads/pakistan_intellectual_capital.csv')"
   ]
  },
  {
   "cell_type": "code",
   "execution_count": 9,
   "id": "d89e7b0e",
   "metadata": {},
   "outputs": [
    {
     "data": {
      "text/html": [
       "<div>\n",
       "<style scoped>\n",
       "    .dataframe tbody tr th:only-of-type {\n",
       "        vertical-align: middle;\n",
       "    }\n",
       "\n",
       "    .dataframe tbody tr th {\n",
       "        vertical-align: top;\n",
       "    }\n",
       "\n",
       "    .dataframe thead th {\n",
       "        text-align: right;\n",
       "    }\n",
       "</style>\n",
       "<table border=\"1\" class=\"dataframe\">\n",
       "  <thead>\n",
       "    <tr style=\"text-align: right;\">\n",
       "      <th></th>\n",
       "      <th>Unnamed: 0</th>\n",
       "      <th>S#</th>\n",
       "      <th>Teacher Name</th>\n",
       "      <th>University Currently Teaching</th>\n",
       "      <th>Department</th>\n",
       "      <th>Province University Located</th>\n",
       "      <th>Designation</th>\n",
       "      <th>Terminal Degree</th>\n",
       "      <th>Graduated from</th>\n",
       "      <th>Country</th>\n",
       "      <th>Year</th>\n",
       "      <th>Area of Specialization/Research Interests</th>\n",
       "      <th>Other Information</th>\n",
       "    </tr>\n",
       "  </thead>\n",
       "  <tbody>\n",
       "    <tr>\n",
       "      <th>0</th>\n",
       "      <td>2</td>\n",
       "      <td>3</td>\n",
       "      <td>Dr. Abdul Basit</td>\n",
       "      <td>University of Balochistan</td>\n",
       "      <td>Computer Science &amp; IT</td>\n",
       "      <td>Balochistan</td>\n",
       "      <td>Assistant Professor</td>\n",
       "      <td>PhD</td>\n",
       "      <td>Asian Institute of Technology</td>\n",
       "      <td>Thailand</td>\n",
       "      <td>NaN</td>\n",
       "      <td>Software Engineering &amp; DBMS</td>\n",
       "      <td>NaN</td>\n",
       "    </tr>\n",
       "    <tr>\n",
       "      <th>1</th>\n",
       "      <td>4</td>\n",
       "      <td>5</td>\n",
       "      <td>Dr. Waheed Noor</td>\n",
       "      <td>University of Balochistan</td>\n",
       "      <td>Computer Science &amp; IT</td>\n",
       "      <td>Balochistan</td>\n",
       "      <td>Assistant Professor</td>\n",
       "      <td>PhD</td>\n",
       "      <td>Asian Institute of Technology</td>\n",
       "      <td>Thailand</td>\n",
       "      <td>NaN</td>\n",
       "      <td>DBMS</td>\n",
       "      <td>NaN</td>\n",
       "    </tr>\n",
       "    <tr>\n",
       "      <th>2</th>\n",
       "      <td>5</td>\n",
       "      <td>6</td>\n",
       "      <td>Dr. Junaid Baber</td>\n",
       "      <td>University of Balochistan</td>\n",
       "      <td>Computer Science &amp; IT</td>\n",
       "      <td>Balochistan</td>\n",
       "      <td>Assistant Professor</td>\n",
       "      <td>PhD</td>\n",
       "      <td>Asian Institute of Technology</td>\n",
       "      <td>Thailand</td>\n",
       "      <td>NaN</td>\n",
       "      <td>Information processing, Multimedia mining</td>\n",
       "      <td>NaN</td>\n",
       "    </tr>\n",
       "    <tr>\n",
       "      <th>3</th>\n",
       "      <td>6</td>\n",
       "      <td>7</td>\n",
       "      <td>Dr. Maheen Bakhtyar</td>\n",
       "      <td>University of Balochistan</td>\n",
       "      <td>Computer Science &amp; IT</td>\n",
       "      <td>Balochistan</td>\n",
       "      <td>Assistant Professor</td>\n",
       "      <td>PhD</td>\n",
       "      <td>Asian Institute of Technology</td>\n",
       "      <td>Thailand</td>\n",
       "      <td>NaN</td>\n",
       "      <td>NLP, Information Retrieval, Question Answering...</td>\n",
       "      <td>NaN</td>\n",
       "    </tr>\n",
       "    <tr>\n",
       "      <th>4</th>\n",
       "      <td>24</td>\n",
       "      <td>25</td>\n",
       "      <td>Samina Azim</td>\n",
       "      <td>Sardar Bahadur Khan Women's University</td>\n",
       "      <td>Computer Science</td>\n",
       "      <td>Balochistan</td>\n",
       "      <td>Lecturer</td>\n",
       "      <td>BS</td>\n",
       "      <td>Balochistan University of Information Technolo...</td>\n",
       "      <td>Pakistan</td>\n",
       "      <td>2005.0</td>\n",
       "      <td>VLSI Electronics DLD Database</td>\n",
       "      <td>NaN</td>\n",
       "    </tr>\n",
       "    <tr>\n",
       "      <th>...</th>\n",
       "      <td>...</td>\n",
       "      <td>...</td>\n",
       "      <td>...</td>\n",
       "      <td>...</td>\n",
       "      <td>...</td>\n",
       "      <td>...</td>\n",
       "      <td>...</td>\n",
       "      <td>...</td>\n",
       "      <td>...</td>\n",
       "      <td>...</td>\n",
       "      <td>...</td>\n",
       "      <td>...</td>\n",
       "      <td>...</td>\n",
       "    </tr>\n",
       "    <tr>\n",
       "      <th>1137</th>\n",
       "      <td>1974</td>\n",
       "      <td>1975</td>\n",
       "      <td>Dr. Ahmar Rashid</td>\n",
       "      <td>Ghulam Ishaq Khan Institute</td>\n",
       "      <td>Computer Science and Engineering</td>\n",
       "      <td>KPK</td>\n",
       "      <td>Associate Professor</td>\n",
       "      <td>PhD</td>\n",
       "      <td>JNU</td>\n",
       "      <td>South Korea</td>\n",
       "      <td>NaN</td>\n",
       "      <td>Electrical Impedance Tomography, Inverse algor...</td>\n",
       "      <td>NaN</td>\n",
       "    </tr>\n",
       "    <tr>\n",
       "      <th>1138</th>\n",
       "      <td>1975</td>\n",
       "      <td>1976</td>\n",
       "      <td>Dr. Fawad Hussain</td>\n",
       "      <td>Ghulam Ishaq Khan Institute</td>\n",
       "      <td>Computer Science and Engineering</td>\n",
       "      <td>KPK</td>\n",
       "      <td>Associate Professor</td>\n",
       "      <td>PhD</td>\n",
       "      <td>Grenoble</td>\n",
       "      <td>France</td>\n",
       "      <td>NaN</td>\n",
       "      <td>Machine Learning, Big Data Anaysis, Data Minin...</td>\n",
       "      <td>NaN</td>\n",
       "    </tr>\n",
       "    <tr>\n",
       "      <th>1139</th>\n",
       "      <td>1977</td>\n",
       "      <td>1978</td>\n",
       "      <td>Dr. Rashad M Jillani</td>\n",
       "      <td>Ghulam Ishaq Khan Institute</td>\n",
       "      <td>Computer Science and Engineering</td>\n",
       "      <td>KPK</td>\n",
       "      <td>Assistant Professor</td>\n",
       "      <td>PhD</td>\n",
       "      <td>Florida Atlantic University</td>\n",
       "      <td>USA</td>\n",
       "      <td>2012.0</td>\n",
       "      <td>Digital Multimedia Systems, Video Compression ...</td>\n",
       "      <td>NaN</td>\n",
       "    </tr>\n",
       "    <tr>\n",
       "      <th>1140</th>\n",
       "      <td>1979</td>\n",
       "      <td>1980</td>\n",
       "      <td>Dr. Shahabuddin Ansari</td>\n",
       "      <td>Ghulam Ishaq Khan Institute</td>\n",
       "      <td>Computer Science and Engineering</td>\n",
       "      <td>KPK</td>\n",
       "      <td>Assistant Professor</td>\n",
       "      <td>PhD</td>\n",
       "      <td>Ghulam Ishaq Khan Institute of Science and Tec...</td>\n",
       "      <td>Pakistan</td>\n",
       "      <td>NaN</td>\n",
       "      <td>Medical Image Processing and Analysis, Digital...</td>\n",
       "      <td>NaN</td>\n",
       "    </tr>\n",
       "    <tr>\n",
       "      <th>1141</th>\n",
       "      <td>1980</td>\n",
       "      <td>1981</td>\n",
       "      <td>Dr. Sajid Anwar</td>\n",
       "      <td>Ghulam Ishaq Khan Institute</td>\n",
       "      <td>Computer Science and Engineering</td>\n",
       "      <td>KPK</td>\n",
       "      <td>Assistant Professor</td>\n",
       "      <td>PhD</td>\n",
       "      <td>Seoul National University</td>\n",
       "      <td>South Korea</td>\n",
       "      <td>NaN</td>\n",
       "      <td>Pruning and Quantizing CNN, GPGPU,</td>\n",
       "      <td>NaN</td>\n",
       "    </tr>\n",
       "  </tbody>\n",
       "</table>\n",
       "<p>1142 rows × 13 columns</p>\n",
       "</div>"
      ],
      "text/plain": [
       "      Unnamed: 0    S#            Teacher Name  \\\n",
       "0              2     3         Dr. Abdul Basit   \n",
       "1              4     5         Dr. Waheed Noor   \n",
       "2              5     6        Dr. Junaid Baber   \n",
       "3              6     7     Dr. Maheen Bakhtyar   \n",
       "4             24    25             Samina Azim   \n",
       "...          ...   ...                     ...   \n",
       "1137        1974  1975        Dr. Ahmar Rashid   \n",
       "1138        1975  1976       Dr. Fawad Hussain   \n",
       "1139        1977  1978    Dr. Rashad M Jillani   \n",
       "1140        1979  1980  Dr. Shahabuddin Ansari   \n",
       "1141        1980  1981         Dr. Sajid Anwar   \n",
       "\n",
       "               University Currently Teaching  \\\n",
       "0                  University of Balochistan   \n",
       "1                  University of Balochistan   \n",
       "2                  University of Balochistan   \n",
       "3                  University of Balochistan   \n",
       "4     Sardar Bahadur Khan Women's University   \n",
       "...                                      ...   \n",
       "1137             Ghulam Ishaq Khan Institute   \n",
       "1138             Ghulam Ishaq Khan Institute   \n",
       "1139             Ghulam Ishaq Khan Institute   \n",
       "1140             Ghulam Ishaq Khan Institute   \n",
       "1141             Ghulam Ishaq Khan Institute   \n",
       "\n",
       "                            Department Province University Located  \\\n",
       "0                Computer Science & IT                 Balochistan   \n",
       "1                Computer Science & IT                 Balochistan   \n",
       "2                Computer Science & IT                 Balochistan   \n",
       "3                Computer Science & IT                 Balochistan   \n",
       "4                     Computer Science                 Balochistan   \n",
       "...                                ...                         ...   \n",
       "1137  Computer Science and Engineering                         KPK   \n",
       "1138  Computer Science and Engineering                         KPK   \n",
       "1139  Computer Science and Engineering                         KPK   \n",
       "1140  Computer Science and Engineering                         KPK   \n",
       "1141  Computer Science and Engineering                         KPK   \n",
       "\n",
       "              Designation Terminal Degree  \\\n",
       "0     Assistant Professor             PhD   \n",
       "1     Assistant Professor             PhD   \n",
       "2     Assistant Professor             PhD   \n",
       "3     Assistant Professor             PhD   \n",
       "4                Lecturer              BS   \n",
       "...                   ...             ...   \n",
       "1137  Associate Professor             PhD   \n",
       "1138  Associate Professor             PhD   \n",
       "1139  Assistant Professor             PhD   \n",
       "1140  Assistant Professor             PhD   \n",
       "1141  Assistant Professor             PhD   \n",
       "\n",
       "                                         Graduated from      Country    Year  \\\n",
       "0                         Asian Institute of Technology     Thailand     NaN   \n",
       "1                         Asian Institute of Technology     Thailand     NaN   \n",
       "2                         Asian Institute of Technology     Thailand     NaN   \n",
       "3                         Asian Institute of Technology     Thailand     NaN   \n",
       "4     Balochistan University of Information Technolo...     Pakistan  2005.0   \n",
       "...                                                 ...          ...     ...   \n",
       "1137                                                JNU  South Korea     NaN   \n",
       "1138                                           Grenoble       France     NaN   \n",
       "1139                        Florida Atlantic University          USA  2012.0   \n",
       "1140  Ghulam Ishaq Khan Institute of Science and Tec...     Pakistan     NaN   \n",
       "1141                          Seoul National University  South Korea     NaN   \n",
       "\n",
       "              Area of Specialization/Research Interests Other Information  \n",
       "0                           Software Engineering & DBMS               NaN  \n",
       "1                                                  DBMS               NaN  \n",
       "2             Information processing, Multimedia mining               NaN  \n",
       "3     NLP, Information Retrieval, Question Answering...               NaN  \n",
       "4                         VLSI Electronics DLD Database               NaN  \n",
       "...                                                 ...               ...  \n",
       "1137  Electrical Impedance Tomography, Inverse algor...               NaN  \n",
       "1138  Machine Learning, Big Data Anaysis, Data Minin...               NaN  \n",
       "1139  Digital Multimedia Systems, Video Compression ...               NaN  \n",
       "1140  Medical Image Processing and Analysis, Digital...               NaN  \n",
       "1141                 Pruning and Quantizing CNN, GPGPU,               NaN  \n",
       "\n",
       "[1142 rows x 13 columns]"
      ]
     },
     "execution_count": 9,
     "metadata": {},
     "output_type": "execute_result"
    }
   ],
   "source": [
    "ca"
   ]
  },
  {
   "cell_type": "code",
   "execution_count": 14,
   "id": "b1e7e33e",
   "metadata": {},
   "outputs": [],
   "source": [
    "countries = ca['Country'].unique()"
   ]
  },
  {
   "cell_type": "code",
   "execution_count": 17,
   "id": "0a826f44",
   "metadata": {},
   "outputs": [
    {
     "data": {
      "text/plain": [
       "array([' Germany', ' New Zealand', ' Sweden', ' USA', 'Australia',\n",
       "       'Austria', 'Canada', 'China', 'Finland', 'France', 'Greece',\n",
       "       'HongKong', 'Ireland', 'Italy', 'Japan', 'Macau', 'Malaysia',\n",
       "       'Mauritius', 'Netherland', 'New Zealand', 'Norway', 'Pakistan',\n",
       "       'Portugal', 'Russian Federation', 'Saudi Arabia', 'Scotland',\n",
       "       'Singapore', 'South Korea', 'SouthKorea', 'Spain', 'Sweden',\n",
       "       'Thailand', 'Turkey', 'UK', 'USA', 'USofA', 'Urbana', 'germany'],\n",
       "      dtype=object)"
      ]
     },
     "execution_count": 17,
     "metadata": {},
     "output_type": "execute_result"
    }
   ],
   "source": [
    "countries.sort()\n",
    "countries"
   ]
  },
  {
   "cell_type": "code",
   "execution_count": 19,
   "id": "bbbb7b2f",
   "metadata": {},
   "outputs": [
    {
     "data": {
      "text/plain": [
       "0    Thailand\n",
       "1    Thailand\n",
       "2    Thailand\n",
       "3    Thailand\n",
       "4    Pakistan\n",
       "5    Pakistan\n",
       "6    Pakistan\n",
       "7    Pakistan\n",
       "8    Pakistan\n",
       "9    Pakistan\n",
       "Name: Country, dtype: object"
      ]
     },
     "execution_count": 19,
     "metadata": {},
     "output_type": "execute_result"
    }
   ],
   "source": [
    "ca['Country'].head(10)"
   ]
  },
  {
   "cell_type": "code",
   "execution_count": 20,
   "id": "2eea74b7",
   "metadata": {},
   "outputs": [],
   "source": [
    "ca['Country'] = ca['Country'].str.lower()"
   ]
  },
  {
   "cell_type": "code",
   "execution_count": 23,
   "id": "2c694eb2",
   "metadata": {},
   "outputs": [],
   "source": [
    "ca['Country'] = ca['Country'].str.strip()"
   ]
  },
  {
   "cell_type": "code",
   "execution_count": 29,
   "id": "15edf59a",
   "metadata": {},
   "outputs": [],
   "source": [
    "countries = ca['Country'].unique()"
   ]
  },
  {
   "cell_type": "code",
   "execution_count": 32,
   "id": "99e6446a",
   "metadata": {},
   "outputs": [
    {
     "data": {
      "text/plain": [
       "array(['australia', 'austria', 'canada', 'china', 'finland', 'france',\n",
       "       'germany', 'greece', 'hongkong', 'ireland', 'italy', 'japan',\n",
       "       'macau', 'malaysia', 'mauritius', 'netherland', 'new zealand',\n",
       "       'norway', 'pakistan', 'portugal', 'russian federation',\n",
       "       'saudi arabia', 'scotland', 'singapore', 'south korea',\n",
       "       'southkorea', 'spain', 'sweden', 'thailand', 'turkey', 'uk',\n",
       "       'urbana', 'usa', 'usofa'], dtype=object)"
      ]
     },
     "execution_count": 32,
     "metadata": {},
     "output_type": "execute_result"
    }
   ],
   "source": [
    "countries.sort()\n",
    "countries"
   ]
  },
  {
   "cell_type": "code",
   "execution_count": 36,
   "id": "e0b23de3",
   "metadata": {},
   "outputs": [],
   "source": [
    "matches = fuzzywuzzy.process.extract('south korea',countries,limit=10,scorer=fuzzywuzzy.fuzz.token_sort_ratio)"
   ]
  },
  {
   "cell_type": "code",
   "execution_count": 37,
   "id": "345741cf",
   "metadata": {},
   "outputs": [
    {
     "data": {
      "text/plain": [
       "[('south korea', 100),\n",
       " ('southkorea', 48),\n",
       " ('saudi arabia', 43),\n",
       " ('norway', 35),\n",
       " ('ireland', 33),\n",
       " ('portugal', 32),\n",
       " ('singapore', 30),\n",
       " ('netherland', 29),\n",
       " ('macau', 25),\n",
       " ('usofa', 25)]"
      ]
     },
     "execution_count": 37,
     "metadata": {},
     "output_type": "execute_result"
    }
   ],
   "source": [
    "matches"
   ]
  },
  {
   "cell_type": "code",
   "execution_count": 48,
   "id": "c61a2e6e",
   "metadata": {},
   "outputs": [
    {
     "data": {
      "text/plain": [
       "('southkorea', 48)"
      ]
     },
     "execution_count": 48,
     "metadata": {},
     "output_type": "execute_result"
    }
   ],
   "source": [
    "matches[1]"
   ]
  },
  {
   "cell_type": "code",
   "execution_count": 46,
   "id": "c401b1b8",
   "metadata": {},
   "outputs": [
    {
     "data": {
      "text/plain": [
       "0       False\n",
       "1       False\n",
       "2       False\n",
       "3       False\n",
       "4       False\n",
       "        ...  \n",
       "1137     True\n",
       "1138    False\n",
       "1139    False\n",
       "1140    False\n",
       "1141     True\n",
       "Name: Country, Length: 1142, dtype: bool"
      ]
     },
     "execution_count": 46,
     "metadata": {},
     "output_type": "execute_result"
    }
   ],
   "source": [
    "ca['Country'].isin(['south korea'])"
   ]
  },
  {
   "cell_type": "code",
   "execution_count": 47,
   "id": "97af34a4",
   "metadata": {},
   "outputs": [
    {
     "data": {
      "text/plain": [
       "489     south korea\n",
       "677     south korea\n",
       "685     south korea\n",
       "764     south korea\n",
       "906     south korea\n",
       "931     south korea\n",
       "1137    south korea\n",
       "1141    south korea\n",
       "Name: Country, dtype: object"
      ]
     },
     "execution_count": 47,
     "metadata": {},
     "output_type": "execute_result"
    }
   ],
   "source": [
    "ca.loc[ca['Country'].isin(['south korea']),'Country']"
   ]
  },
  {
   "cell_type": "code",
   "execution_count": 67,
   "id": "b3357c40",
   "metadata": {},
   "outputs": [],
   "source": [
    "def replace_matches_in_column(df, column, string_to_match, min_ratio = 47):\n",
    "    # get a list of unique strings\n",
    "    strings = df[column].unique()\n",
    "    \n",
    "    # get the top 10 closest matches to our input string\n",
    "    matches = fuzzywuzzy.process.extract(string_to_match, strings, \n",
    "                                         limit=10, scorer=fuzzywuzzy.fuzz.token_sort_ratio)\n",
    "\n",
    "    # only get matches with a ratio > 90\n",
    "    close_matches = [matches[0] for matches in matches if matches[1] >= min_ratio]\n",
    "    # get the rows of all the close matches in our dataframe\n",
    "    rows_with_matches = df[column].isin(close_matches)\n",
    "\n",
    "    # replace all rows with close matches with the input matches \n",
    "    df.loc[rows_with_matches, column] = string_to_match\n",
    "    "
   ]
  },
  {
   "cell_type": "code",
   "execution_count": 69,
   "id": "832b26e4",
   "metadata": {},
   "outputs": [],
   "source": [
    "replace_matches_in_column(df=ca, column='Country', string_to_match=\"south korea\")"
   ]
  },
  {
   "cell_type": "code",
   "execution_count": 70,
   "id": "2e0daf44",
   "metadata": {},
   "outputs": [],
   "source": [
    "Countries = ca['Country'].unique()"
   ]
  },
  {
   "cell_type": "code",
   "execution_count": 71,
   "id": "03d520a0",
   "metadata": {},
   "outputs": [
    {
     "data": {
      "text/plain": [
       "array(['thailand', 'pakistan', 'germany', 'austria', 'australia', 'uk',\n",
       "       'china', 'france', 'usofa', 'south korea', 'malaysia', 'sweden',\n",
       "       'italy', 'canada', 'norway', 'ireland', 'new zealand', 'urbana',\n",
       "       'portugal', 'russian federation', 'usa', 'finland', 'netherland',\n",
       "       'greece', 'turkey', 'macau', 'singapore', 'spain', 'japan',\n",
       "       'hongkong', 'saudi arabia', 'mauritius', 'scotland'], dtype=object)"
      ]
     },
     "execution_count": 71,
     "metadata": {},
     "output_type": "execute_result"
    }
   ],
   "source": [
    "Countries"
   ]
  },
  {
   "cell_type": "code",
   "execution_count": null,
   "id": "980b0061",
   "metadata": {},
   "outputs": [],
   "source": []
  }
 ],
 "metadata": {
  "kernelspec": {
   "display_name": "Python 3 (ipykernel)",
   "language": "python",
   "name": "python3"
  },
  "language_info": {
   "codemirror_mode": {
    "name": "ipython",
    "version": 3
   },
   "file_extension": ".py",
   "mimetype": "text/x-python",
   "name": "python",
   "nbconvert_exporter": "python",
   "pygments_lexer": "ipython3",
   "version": "3.10.9"
  }
 },
 "nbformat": 4,
 "nbformat_minor": 5
}
